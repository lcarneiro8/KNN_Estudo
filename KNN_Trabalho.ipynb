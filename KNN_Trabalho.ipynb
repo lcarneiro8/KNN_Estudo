{
 "cells": [
  {
   "cell_type": "code",
   "execution_count": 2,
   "metadata": {},
   "outputs": [],
   "source": [
    "# Importando bibliotecas necessárias \n",
    "import numpy as np\n",
    "import pandas as pd\n",
    "from sklearn.datasets import load_iris\n",
    "from sklearn.model_selection import train_test_split\n",
    "from sklearn.preprocessing import StandardScaler\n",
    "from sklearn.neighbors import KNeighborsClassifier\n",
    "import matplotlib.pyplot as plt"
   ]
  },
  {
   "cell_type": "code",
   "execution_count": 6,
   "metadata": {},
   "outputs": [],
   "source": [
    "# Carregar o conjunto de dados\n",
    "iris = load_iris()\n",
    "X = iris.data[:, :2]  # Usando apenas as duas primeiras características: comprimento e largura da sépala\n",
    "y = iris.target"
   ]
  },
  {
   "cell_type": "code",
   "execution_count": 7,
   "metadata": {},
   "outputs": [],
   "source": [
    "# Dividir os Dados em Conjuntos de Treinamento e Teste\n",
    "X_train, X_test, y_train, y_test = train_test_split(X, y, test_size=0.2, random_state=42)"
   ]
  },
  {
   "cell_type": "code",
   "execution_count": 5,
   "metadata": {},
   "outputs": [],
   "source": [
    "# Padronizar os Dados\n",
    "scaler = StandardScaler()\n",
    "X_train_scaled = scaler.fit_transform(X_train)\n",
    "X_test_scaled = scaler.transform(X_test)"
   ]
  },
  {
   "cell_type": "code",
   "execution_count": 8,
   "metadata": {},
   "outputs": [],
   "source": [
    "# Lista com diferentes percentuais de dados para treinamento\n",
    "train_sizes = [0.1, 0.2, 0.3, 0.4]"
   ]
  },
  {
   "cell_type": "code",
   "execution_count": 14,
   "metadata": {},
   "outputs": [
    {
     "name": "stdout",
     "output_type": "stream",
     "text": [
      "k            1         2         3         4         5         6         7  \\\n",
      "%                                                                            \n",
      "10.0  0.712963  0.694444  0.712963  0.648148  0.722222  0.657407  0.629630   \n",
      "20.0  0.739583  0.697917  0.718750  0.708333  0.739583  0.729167  0.729167   \n",
      "30.0  0.690476  0.666667  0.666667  0.678571  0.714286  0.678571  0.761905   \n",
      "40.0  0.722222  0.680556  0.680556  0.680556  0.736111  0.722222  0.736111   \n",
      "\n",
      "k            8         9  \n",
      "%                         \n",
      "10.0  0.657407  0.601852  \n",
      "20.0  0.718750  0.729167  \n",
      "30.0  0.678571  0.738095  \n",
      "40.0  0.736111  0.791667  \n"
     ]
    }
   ],
   "source": [
    "# Criar uma lista para armazenar os resultados\n",
    "results = []\n",
    "\n",
    "for train_size in train_sizes:\n",
    "    # Dividir os dados em conjuntos de treinamento e teste novamente com o tamanho especificado\n",
    "    X_train_size, X_test_size, y_train_size, y_test_size = train_test_split(X_train_scaled, y_train, test_size=1-train_size, random_state=42)\n",
    "    \n",
    "    for n in range(1, 10):\n",
    "        # Criar e treinar o modelo KNN\n",
    "        knn = KNeighborsClassifier(n_neighbors=n)\n",
    "        knn.fit(X_train_size, y_train_size)  # Use a parte escalada\n",
    "\n",
    "        # Avaliar o modelo\n",
    "        accuracy = knn.score(X_test_size, y_test_size)  # Use a parte escalada\n",
    "        \n",
    "        # Armazenar os resultados\n",
    "        results.append({'%': train_size * 100,\n",
    "                        'k': n,\n",
    "                        'accuracy': accuracy})\n",
    "\n",
    "# Converter os resultados em um DataFrame do Pandas\n",
    "results_df = pd.DataFrame(results)\n",
    "\n",
    "# Criar uma tabela pivot onde n_neighbors é o eixo X e train_sizes é o eixo Y\n",
    "pivot_table = results_df.pivot(index='%', columns='k', values='accuracy')\n",
    "\n",
    "# Exibir a tabela resultante\n",
    "print(pivot_table)"
   ]
  },
  {
   "cell_type": "code",
   "execution_count": 17,
   "metadata": {},
   "outputs": [
    {
     "name": "stdout",
     "output_type": "stream",
     "text": [
      "   Média Ponderada\n",
      "k                 \n",
      "1         0.715245\n",
      "2         0.681250\n",
      "3         0.687269\n",
      "4         0.682275\n",
      "5         0.728869\n",
      "6         0.704034\n",
      "7         0.731812\n",
      "8         0.707507\n",
      "9         0.744114\n"
     ]
    }
   ],
   "source": [
    "# Convertendo os índices para valores numéricos para usar como pesos e transformando em um array NumPy\n",
    "weights = np.array(pivot_table.index.astype(float) / 100)  # Remover '%' diretamente convertendo para float\n",
    "\n",
    "# Calculando a média ponderada usando weights como um array NumPy\n",
    "weighted_average = (pivot_table.values * weights[:, None]).sum(axis=0) / weights.sum()\n",
    "\n",
    "# Convertendo o resultado em um DataFrame para melhor visualização\n",
    "weighted_average_df = pd.DataFrame(weighted_average, index=pivot_table.columns, columns=['Média Ponderada'])\n",
    "\n",
    "print(weighted_average_df)"
   ]
  },
  {
   "cell_type": "code",
   "execution_count": 22,
   "metadata": {},
   "outputs": [
    {
     "name": "stdout",
     "output_type": "stream",
     "text": [
      "Recall Ponderado (usando sklearn): 0.3667\n",
      "Recall Ponderado (usando sklearn): 0.3667\n"
     ]
    }
   ],
   "source": [
    "from sklearn.metrics import recall_score\n",
    "\n",
    "# Fazer previsões no conjunto de teste\n",
    "y_pred = knn.predict(X_test)\n",
    "\n",
    "# Agora y_true são os valores reais do conjunto de teste\n",
    "y_true = y_test\n",
    "\n",
    "# Calcular o Recall ponderado usando sklearn\n",
    "recall_ponderado = recall_score(y_true, y_pred, average='weighted')\n",
    "print(f'Recall Ponderado (usando sklearn): {recall_ponderado:.4f}')\n",
    "\n",
    "# Agora vamos calcular o Recall ponderado com os dados gerados da tabela\n",
    "# Aqui assumimos que você já tem y_true e y_pred (os rótulos verdadeiros e preditos)\n",
    "\n",
    "# Exemplo de uso do recall_score com média ponderada\n",
    "recall_ponderado = recall_score(y_true, y_pred, average='weighted')\n",
    "print(f'Recall Ponderado (usando sklearn): {recall_ponderado:.4f}')"
   ]
  },
  {
   "cell_type": "code",
   "execution_count": 24,
   "metadata": {},
   "outputs": [
    {
     "name": "stdout",
     "output_type": "stream",
     "text": [
      "F1-Score Ponderado (usando sklearn): 0.1967\n"
     ]
    }
   ],
   "source": [
    "from sklearn.metrics import f1_score\n",
    "\n",
    "# Calcular o F1-Score ponderado usando sklearn\n",
    "f1_ponderado = f1_score(y_true, y_pred, average='weighted')\n",
    "print(f'F1-Score Ponderado (usando sklearn): {f1_ponderado:.4f}')"
   ]
  },
  {
   "cell_type": "code",
   "execution_count": 27,
   "metadata": {},
   "outputs": [
    {
     "name": "stdout",
     "output_type": "stream",
     "text": [
      "Matriz de Confusão:\n",
      "[[ 0  0 10]\n",
      " [ 0  0  9]\n",
      " [ 0  0 11]]\n"
     ]
    },
    {
     "data": {
      "image/png": "[encoded data removed]",
      "text/plain": [
       "<Figure size 576x432 with 2 Axes>"
      ]
     },
     "metadata": {
      "needs_background": "light"
     },
     "output_type": "display_data"
    }
   ],
   "source": [
    "import seaborn as sns\n",
    "from sklearn.metrics import confusion_matrix\n",
    "\n",
    "# Gerar a matriz de confusão\n",
    "matriz_confusao = confusion_matrix(y_true, y_pred)\n",
    "print(\"Matriz de Confusão:\")\n",
    "print(matriz_confusao)\n",
    "\n",
    "# Plotar a matriz de confusão usando Seaborn\n",
    "plt.figure(figsize=(8, 6))\n",
    "sns.heatmap(matriz_confusao, annot=True, fmt=\"d\", cmap=\"Blues\", xticklabels=np.unique(y_true), yticklabels=np.unique(y_true))\n",
    "plt.xlabel('Classes Previstas')\n",
    "plt.ylabel('Classes Verdadeiras')\n",
    "plt.title('Matriz de Confusão')\n",
    "plt.show()"
   ]
  }
 ],
 "metadata": {
  "kernelspec": {
   "display_name": "base",
   "language": "python",
   "name": "python3"
  },
  "language_info": {
   "codemirror_mode": {
    "name": "ipython",
    "version": 3
   },
   "file_extension": ".py",
   "mimetype": "text/x-python",
   "name": "python",
   "nbconvert_exporter": "python",
   "pygments_lexer": "ipython3",
   "version": "3.9.12"
  }
 },
 "nbformat": 4,
 "nbformat_minor": 2
}
